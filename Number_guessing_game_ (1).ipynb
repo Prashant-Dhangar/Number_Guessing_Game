{
  "nbformat": 4,
  "nbformat_minor": 0,
  "metadata": {
    "colab": {
      "provenance": []
    },
    "kernelspec": {
      "name": "python3",
      "display_name": "Python 3"
    },
    "language_info": {
      "name": "python"
    }
  },
  "cells": [
    {
      "cell_type": "markdown",
      "source": [
        "# Number Guessing Game "
      ],
      "metadata": {
        "id": "n3lyOh7v35CJ"
      }
    },
    {
      "cell_type": "markdown",
      "source": [
        "\n",
        "\n",
        "Approach:- The following steps followed to design the game:\n",
        "\n",
        "*   Generate a random number between 1 and n.\n",
        "*   Then iterate from 1 to 30 and check if the input number\n",
        "    is equal to the assumed number or not.\n",
        "*   If yes, then the player wins the game.\n",
        "\n",
        "\n",
        "\n",
        "\n",
        "\n",
        "\n",
        "\n",
        "   \n",
        "\n",
        "\n",
        "\n",
        "\n",
        "\n",
        "\n"
      ],
      "metadata": {
        "id": "8BEMvu94uaEj"
      }
    },
    {
      "cell_type": "markdown",
      "source": [
        "implementation of the above approach:"
      ],
      "metadata": {
        "id": "pxLeu35EuXOn"
      }
    },
    {
      "cell_type": "code",
      "source": [
        "# import inbuilt function\n",
        "import random"
      ],
      "metadata": {
        "id": "ix9_GeD4yIGt"
      },
      "execution_count": 5,
      "outputs": []
    },
    {
      "cell_type": "code",
      "source": [
        " # Function that generate a number in\n",
        " # the range [1, n] and checks if the\n",
        " # generated number is the same as the\n",
        " # guessed number or not\n",
        "\n",
        "def guessing(n):\n",
        "     ran_num = random.randint(1,n)\n",
        "\n",
        " # Generate a random number \n",
        "     guess = 0\n",
        "\n",
        " # Using a while loop that will\n",
        " # work until user guesses\n",
        " # the correct number\n",
        "\n",
        "     while guess != ran_num:\n",
        "       guess = int(input(f\"guess a number between 1 and {n}: \"))\n",
        " # When user guesses lower\n",
        " # than actual number\n",
        "       if guess < ran_num:\n",
        "          print(\"sorry, guess a greater number :\")\n",
        " # When user guesses higher\n",
        " # than actual number        \n",
        "       elif guess > ran_num:\n",
        "          print(\"sorry, guess a lower number : \")\n",
        "        \n",
        "     print(f\"hurree, you have guessed a number {ran_num} correctly\")   \n",
        "       \n",
        "# create fun for enter number     \n",
        "def guess():\n",
        "   x  = int(input(\"enter the number: \"))\n",
        "   if x > 30:\n",
        "    print(\"please number less than 30\")\n",
        "    guess()\n",
        "   elif x< 5:\n",
        "    print(\"please enter number greater than 5\")\n",
        "    guess()\n",
        "   else:\n",
        "     n = x\n",
        " # Function call\n",
        "   guessing(n)\n",
        "    \n",
        "\n",
        "\n",
        "\n"
      ],
      "metadata": {
        "id": "Z2o_6Oxy-2V2"
      },
      "execution_count": 6,
      "outputs": []
    },
    {
      "cell_type": "code",
      "source": [
        "#Function call\n",
        "guess()"
      ],
      "metadata": {
        "id": "_DLNAwak5gcd",
        "colab": {
          "base_uri": "https://localhost:8080/"
        },
        "outputId": "a7e8a9c6-cb9f-445c-80c8-51f96363c759"
      },
      "execution_count": 7,
      "outputs": [
        {
          "output_type": "stream",
          "name": "stdout",
          "text": [
            "enter the number: 22\n",
            "guess a number between 1 and 22: 11\n",
            "sorry, guess a lower number : \n",
            "guess a number between 1 and 22: 7\n",
            "sorry, guess a lower number : \n",
            "guess a number between 1 and 22: 5\n",
            "sorry, guess a lower number : \n",
            "guess a number between 1 and 22: 3\n",
            "sorry, guess a lower number : \n",
            "guess a number between 1 and 22: 2\n",
            "sorry, guess a lower number : \n",
            "guess a number between 1 and 22: 1\n",
            "hurree, you have guessed a number 1 correctly\n"
          ]
        }
      ]
    }
  ]
}